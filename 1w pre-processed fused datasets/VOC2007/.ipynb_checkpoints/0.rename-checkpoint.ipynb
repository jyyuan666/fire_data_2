{
 "cells": [
  {
   "cell_type": "code",
   "execution_count": 1,
   "metadata": {},
   "outputs": [],
   "source": [
    "import os\n",
    "import xml.etree.ElementTree as ET\n",
    "\n",
    "xml_path = './Annotations'#切忌不要出现中文，不然会很恐怖\n",
    "for root, dir, filenames in os.walk(xml_path):\n",
    "    pass\n",
    "\n",
    "for filename in filenames:\n",
    "    filepath = xml_path + '/' + filename\n",
    "    tree = ET.parse(filepath)\n",
    "    root = tree.getroot()\n",
    "    root[1].text = filename.split('.')[0] + '.jpg'\n",
    "    root[2].text = xml_path + '/' + root[1].text\n",
    "    tree.write(filepath, encoding=\"utf-8\", xml_declaration=True)"
   ]
  },
  {
   "cell_type": "code",
   "execution_count": null,
   "metadata": {},
   "outputs": [],
   "source": []
  }
 ],
 "metadata": {
  "kernelspec": {
   "display_name": "Python 3",
   "language": "python",
   "name": "python3"
  },
  "language_info": {
   "codemirror_mode": {
    "name": "ipython",
    "version": 3
   },
   "file_extension": ".py",
   "mimetype": "text/x-python",
   "name": "python",
   "nbconvert_exporter": "python",
   "pygments_lexer": "ipython3",
   "version": "3.7.2"
  }
 },
 "nbformat": 4,
 "nbformat_minor": 2
}
