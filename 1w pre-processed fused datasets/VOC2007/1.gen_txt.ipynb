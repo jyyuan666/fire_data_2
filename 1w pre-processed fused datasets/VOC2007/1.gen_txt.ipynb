{
 "cells": [
  {
   "cell_type": "code",
   "execution_count": 1,
   "metadata": {},
   "outputs": [],
   "source": [
    "import os\n",
    "import random\n",
    "\n",
    "trainval_percent = 0.9 #训练集：测试集=8:2\n",
    "train_percent = 0.9 #训练集里 训练:验证=9:1\n",
    "xmlfilepath = 'Annotations'\n",
    "txtsavepath = 'ImageSets\\Main'\n",
    "total_xml = os.listdir(xmlfilepath)\n",
    "\n",
    "num=len(total_xml)\n",
    "list=range(num)\n",
    "tv=int(num*trainval_percent)\n",
    "tr=int(tv*train_percent)\n",
    "trainval= random.sample(list,tv)\n",
    "train=random.sample(trainval,tr)\n",
    "\n",
    "ftrainval = open('ImageSets/Main/trainval.txt', 'w')#trianval.txt是用来训练和验证的图片文件的文件名列表\n",
    "ftest = open('ImageSets/Main/test.txt', 'w')#test.txt 是用来测试的图片文件的文件名列表\n",
    "ftrain = open('ImageSets/Main/train.txt', 'w')#train.txt 是用来训练的图片文件的文件名列表\n",
    "fval = open('ImageSets/Main/val.txt', 'w')#val.txt是用来验证的图片文件的文件名列表\n",
    "#train.txt + val.txt = trianval.txt \n",
    "#trianval.txt + test.txt = 整个数据集\n",
    "for i  in list:\n",
    "    name=total_xml[i][:-4]\n",
    "    if i in trainval:\n",
    "        ftrainval.write(name+'\\n')\n",
    "        if i in train:\n",
    "            ftrain.write(name+'\\n')\n",
    "        else:\n",
    "            fval.write(name+'\\n')\n",
    "    else:\n",
    "        ftest.write(name+'\\n')\n",
    "\n",
    "ftrainval.close()\n",
    "ftrain.close()\n",
    "fval.close()\n",
    "ftest .close()\n"
   ]
  },
  {
   "cell_type": "code",
   "execution_count": null,
   "metadata": {},
   "outputs": [],
   "source": []
  }
 ],
 "metadata": {
  "kernelspec": {
   "display_name": "Python 3",
   "language": "python",
   "name": "python3"
  },
  "language_info": {
   "codemirror_mode": {
    "name": "ipython",
    "version": 3
   },
   "file_extension": ".py",
   "mimetype": "text/x-python",
   "name": "python",
   "nbconvert_exporter": "python",
   "pygments_lexer": "ipython3",
   "version": "3.7.2"
  }
 },
 "nbformat": 4,
 "nbformat_minor": 2
}
